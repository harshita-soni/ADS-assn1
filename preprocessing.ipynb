{
 "cells": [
  {
   "cell_type": "markdown",
   "metadata": {},
   "source": [
    "# Loading the dataset"
   ]
  },
  {
   "cell_type": "code",
   "execution_count": 137,
   "metadata": {},
   "outputs": [],
   "source": [
    "from urllib.request import urlretrieve\n",
    "import os, ssl\n",
    "\n",
    "# directory path to store data\n",
    "output_relative_dir = './data'\n",
    "\n",
    "# check if it exists as it makedir will raise an error if it does exist\n",
    "if not os.path.exists(output_relative_dir):\n",
    "    os.makedirs(output_relative_dir)"
   ]
  },
  {
   "cell_type": "code",
   "execution_count": 138,
   "metadata": {},
   "outputs": [],
   "source": [
    "YEAR = '2021'\n",
    "MONTHS = range(6,8)\n",
    "URL_TEMPLATE = \"https://d37ci6vzurychx.cloudfront.net/trip-data/yellow_tripdata_\"#year-month.parquet"
   ]
  },
  {
   "cell_type": "code",
   "execution_count": 139,
   "metadata": {},
   "outputs": [
    {
     "name": "stdout",
     "output_type": "stream",
     "text": [
      "Begin month 06\n",
      "Completed month 06\n",
      "Begin month 07\n",
      "Completed month 07\n"
     ]
    }
   ],
   "source": [
    "tlc_output_dir = output_relative_dir\n",
    "\n",
    "for month in MONTHS:\n",
    "    # 0-fill i.e 1 -> 01, 2 -> 02, etc\n",
    "    month = str(month).zfill(2) \n",
    "    print(f\"Begin month {month}\")\n",
    "    \n",
    "    # generate url\n",
    "    url = f'{URL_TEMPLATE}{YEAR}-{month}.parquet'\n",
    "    # generate output location and filename\n",
    "    output_dir = f\"{tlc_output_dir}/{YEAR}-{month}.parquet\"\n",
    "\n",
    "    if (not os.environ.get('PYTHONHTTPSVERIFY', '') and getattr(ssl, '_create_unverified_context', None)):\n",
    "        ssl._create_default_https_context = ssl._create_unverified_context\n",
    "    # download\n",
    "    urlretrieve(url, output_dir) \n",
    "    \n",
    "    print(f\"Completed month {month}\")"
   ]
  },
  {
   "cell_type": "code",
   "execution_count": 3,
   "metadata": {},
   "outputs": [
    {
     "name": "stdout",
     "output_type": "stream",
     "text": [
      "22/08/20 22:47:51 WARN Utils: Your hostname, Harshitas-MacBook-Air-8.local resolves to a loopback address: 127.0.0.1; using 192.168.0.227 instead (on interface en0)\n",
      "22/08/20 22:47:51 WARN Utils: Set SPARK_LOCAL_IP if you need to bind to another address\n"
     ]
    },
    {
     "name": "stderr",
     "output_type": "stream",
     "text": [
      "Setting default log level to \"WARN\".\n",
      "To adjust logging level use sc.setLogLevel(newLevel). For SparkR, use setLogLevel(newLevel).\n"
     ]
    },
    {
     "name": "stdout",
     "output_type": "stream",
     "text": [
      "22/08/20 22:47:53 WARN NativeCodeLoader: Unable to load native-hadoop library for your platform... using builtin-java classes where applicable\n"
     ]
    }
   ],
   "source": [
    "from pyspark.sql import SparkSession, functions as F\n",
    "\n",
    "# Create a spark session (which will run spark jobs)\n",
    "spark = (\n",
    "    SparkSession.builder.appName(\"ADS\")\n",
    "    .config(\"spark.sql.repl.eagerEval.enabled\", True) \n",
    "    .config(\"spark.sql.parquet.cacheMetadata\", \"true\")\n",
    "    .config(\"spark.sql.session.timeZone\", \"Etc/UTC\")\n",
    "    .getOrCreate()\n",
    ")"
   ]
  },
  {
   "cell_type": "code",
   "execution_count": 4,
   "metadata": {},
   "outputs": [
    {
     "name": "stderr",
     "output_type": "stream",
     "text": [
      "                                                                                \r"
     ]
    }
   ],
   "source": [
    "sdf = spark.read.parquet('./data')"
   ]
  },
  {
   "cell_type": "code",
   "execution_count": 5,
   "metadata": {},
   "outputs": [],
   "source": [
    "from pyspark.sql import functions as F\n",
    "import seaborn as sns\n",
    "import matplotlib.pyplot as plt\n",
    "import pandas as pd\n",
    "import geopandas as gpd\n",
    "import folium"
   ]
  },
  {
   "cell_type": "code",
   "execution_count": 6,
   "metadata": {},
   "outputs": [],
   "source": [
    "zones = pd.read_csv(\"./data/taxi_data/taxi+_zone_lookup.csv\")\n",
    "sf = gpd.read_file(\"./data/taxi_data/taxi_zones.shp\")\n",
    "# attribute tute code\n",
    "sf['geometry'] = sf['geometry'].to_crs(\"+proj=longlat +ellps=WGS84 +datum=WGS84 +no_defs\")"
   ]
  },
  {
   "cell_type": "code",
   "execution_count": 7,
   "metadata": {},
   "outputs": [],
   "source": [
    "gdf = gpd.GeoDataFrame(pd.merge(zones, sf, on='LocationID', how='inner'))\n",
    "# create a JSON \n",
    "geoJSON = gdf[['LocationID', 'geometry']] \\\n",
    "    .drop_duplicates('LocationID').to_json()"
   ]
  },
  {
   "cell_type": "code",
   "execution_count": 8,
   "metadata": {},
   "outputs": [
    {
     "name": "stderr",
     "output_type": "stream",
     "text": [
      "/var/folders/_2/r25pzjyd1fqfd32_0z2rfzm80000gn/T/ipykernel_2986/4226517316.py:2: UserWarning: Geometry is in a geographic CRS. Results from 'centroid' are likely incorrect. Use 'GeoSeries.to_crs()' to re-project geometries to a projected CRS before this operation.\n",
      "\n",
      "  gdf['latitude'] = gdf['geometry'].centroid.y\n",
      "/var/folders/_2/r25pzjyd1fqfd32_0z2rfzm80000gn/T/ipykernel_2986/4226517316.py:3: UserWarning: Geometry is in a geographic CRS. Results from 'centroid' are likely incorrect. Use 'GeoSeries.to_crs()' to re-project geometries to a projected CRS before this operation.\n",
      "\n",
      "  gdf['longitude'] = gdf['geometry'].centroid.x\n"
     ]
    }
   ],
   "source": [
    "gdf['wkt'] = gdf['geometry'].to_wkt()\n",
    "gdf['latitude'] = gdf['geometry'].centroid.y\n",
    "gdf['longitude'] = gdf['geometry'].centroid.x\n",
    "\n",
    "spark_gdf = spark.createDataFrame(\n",
    "    gdf[['Zone', 'LocationID', 'wkt', 'latitude', 'longitude']]\n",
    ")"
   ]
  },
  {
   "cell_type": "code",
   "execution_count": 37,
   "metadata": {},
   "outputs": [],
   "source": [
    "import time, math\n",
    "from datetime import date\n",
    "\n",
    "DAY_DICT = {0: \"Monday\", 1: \"Tuesday\", 2: \"Wednesday\", 3: \"Thursday\", \n",
    "            4: \"Friday\", 5: \"Saturday\", 6: \"Sunday\"}\n",
    "\n",
    "def extract_date_time(date_str):\n",
    "    \"\"\"\n",
    "    date string is of the format yyyy-mm-dd hh:mm:ss, e.g., 2022-04-01 00:21:13\n",
    "    Follows 24-hr time format.\n",
    "    Return a tuple of the form (time_str, hour_bin, month, date, day, isWeekend)\n",
    "    \"\"\"\n",
    "    date_time = str(date_str).split()\n",
    "\n",
    "    dateL = list(map(int, date_time[0].split(\"-\")))\n",
    "    timeL = list(map(int, date_time[1].split(\":\")))\n",
    "    \n",
    "    return dateL, timeL\n",
    "    \n",
    "\n",
    "def extract_features(date_str):\n",
    "    dateL, timeL = extract_date_time(date_str)\n",
    "    \n",
    "    time_str = f'{timeL[0]}:{timeL[1]}'\n",
    "    hour_bin = int(timeL[0])\n",
    "\n",
    "    dateV = date(dateL[0], dateL[1], dateL[2])\n",
    "\n",
    "    \n",
    "    day = DAY_DICT[dateV.weekday()]\n",
    "    \n",
    "    is_weekend = 0\n",
    "    if day in [\"Saturday\", \"Sunday\"]:\n",
    "        is_weekend = 1\n",
    "\n",
    "    return (time_str, hour_bin, dateV.month, dateV.day, day, is_weekend)"
   ]
  },
  {
   "cell_type": "code",
   "execution_count": 10,
   "metadata": {},
   "outputs": [],
   "source": [
    "# clean rows with invalid values accoring to the data dictionaries\n",
    "sdf_clean = sdf.filter(\n",
    "    (sdf[\"total_amount\"] > 0) &\n",
    "    (sdf[\"VendorID\"] <= 2) &\n",
    "    (sdf[\"VendorID\"] >= 1) &\n",
    "    (sdf[\"passenger_count\"] >= 1) &\n",
    "    (sdf[\"trip_distance\"] > 0) &\n",
    "    (sdf[\"RatecodeID\"] <= 6) &\n",
    "    (sdf[\"RatecodeID\"] >= 1) &\n",
    "    (sdf[\"payment_type\"] <= 6) &\n",
    "    (sdf[\"payment_type\"] >= 1)\n",
    "    )"
   ]
  },
  {
   "cell_type": "code",
   "execution_count": 11,
   "metadata": {},
   "outputs": [
    {
     "name": "stderr",
     "output_type": "stream",
     "text": [
      "                                                                                \r"
     ]
    }
   ],
   "source": [
    "small_df = sdf_clean.sample(0.05, seed=None)\n",
    "small_df = small_df.toPandas()"
   ]
  },
  {
   "cell_type": "code",
   "execution_count": 12,
   "metadata": {},
   "outputs": [
    {
     "data": {
      "image/png": "[encoded data removed]",
      "text/plain": [
       "<Figure size 432x288 with 2 Axes>"
      ]
     },
     "metadata": {
      "needs_background": "light"
     },
     "output_type": "display_data"
    }
   ],
   "source": [
    "CORR_COLS = [\"trip_distance\", \"PULocationID\", \"DOLocationID\", \"total_amount\"]\n",
    "sns.heatmap(small_df[CORR_COLS].corr())\n",
    "\n",
    "plt.title('Pearson Correlation Metric')\n",
    "plt.show()"
   ]
  },
  {
   "cell_type": "code",
   "execution_count": 13,
   "metadata": {},
   "outputs": [],
   "source": [
    "small_df = small_df \\\n",
    "    .merge(gdf[['LocationID', 'geometry']], left_on='PULocationID', right_on='LocationID') \\\n",
    "    .drop('LocationID', axis=1)"
   ]
  },
  {
   "cell_type": "code",
   "execution_count": 179,
   "metadata": {},
   "outputs": [
    {
     "name": "stdout",
     "output_type": "stream",
     "text": [
      "root\n",
      " |-- VendorID: long (nullable = true)\n",
      " |-- tpep_pickup_datetime: timestamp (nullable = true)\n",
      " |-- tpep_dropoff_datetime: timestamp (nullable = true)\n",
      " |-- passenger_count: double (nullable = true)\n",
      " |-- trip_distance: double (nullable = true)\n",
      " |-- RatecodeID: double (nullable = true)\n",
      " |-- store_and_fwd_flag: string (nullable = true)\n",
      " |-- PULocationID: long (nullable = true)\n",
      " |-- DOLocationID: long (nullable = true)\n",
      " |-- payment_type: long (nullable = true)\n",
      " |-- fare_amount: double (nullable = true)\n",
      " |-- extra: double (nullable = true)\n",
      " |-- mta_tax: double (nullable = true)\n",
      " |-- tip_amount: double (nullable = true)\n",
      " |-- tolls_amount: double (nullable = true)\n",
      " |-- improvement_surcharge: double (nullable = true)\n",
      " |-- total_amount: double (nullable = true)\n",
      " |-- congestion_surcharge: double (nullable = true)\n",
      " |-- airport_fee: double (nullable = true)\n",
      "\n"
     ]
    }
   ],
   "source": [
    "# print(sdf_clean.count())\n",
    "# sdf.count()\n",
    "sdf.printSchema()"
   ]
  },
  {
   "cell_type": "code",
   "execution_count": 53,
   "metadata": {},
   "outputs": [],
   "source": [
    "from pyspark.sql.types import ArrayType, FloatType\n",
    "from pyspark.sql import functions as F\n",
    "\n",
    "sdf_clean = sdf_clean.withColumn(\n",
    "    \"day_of_year\", F.date_format(F.col(\"tpep_pickup_datetime\"), \"D\"))\n",
    "sdf_clean = sdf_clean.withColumn(\n",
    "    \"day_of_month\", F.date_format(F.col(\"tpep_pickup_datetime\"), \"d\"))\n",
    "sdf_clean = sdf_clean.withColumn(\n",
    "    \"day_of_week\", F.date_format(F.col(\"tpep_pickup_datetime\"), \"E\"))\n",
    "sdf_clean = sdf_clean.withColumn(\n",
    "    \"hour_of_day\", F.date_format(F.col(\"tpep_pickup_datetime\"), \"H\"))\n",
    "sdf_clean = sdf_clean.withColumn(\n",
    "    \"minute_of_hour\", F.date_format(F.col(\"tpep_pickup_datetime\"), \"m\"))\n",
    "sdf_clean = sdf_clean.withColumn(\n",
    "    \"is_weekend\", \n",
    "    F.when(\n",
    "        (F.col(\"day_of_week\") == \"Sat\")\n",
    "        | (F.col(\"day_of_week\") == \"Sun\"),\n",
    "        True\n",
    "    ).otherwise(False))\n"
   ]
  },
  {
   "cell_type": "code",
   "execution_count": 54,
   "metadata": {},
   "outputs": [
    {
     "name": "stderr",
     "output_type": "stream",
     "text": [
      "                                                                                \r"
     ]
    },
    {
     "data": {
      "text/html": [
       "<table border='1'>\n",
       "<tr><th>VendorID</th><th>tpep_pickup_datetime</th><th>tpep_dropoff_datetime</th><th>passenger_count</th><th>trip_distance</th><th>RatecodeID</th><th>store_and_fwd_flag</th><th>PULocationID</th><th>DOLocationID</th><th>payment_type</th><th>fare_amount</th><th>extra</th><th>mta_tax</th><th>tip_amount</th><th>tolls_amount</th><th>improvement_surcharge</th><th>total_amount</th><th>congestion_surcharge</th><th>airport_fee</th><th>day_of_year</th><th>day_of_month</th><th>day_of_week</th><th>hour_of_day</th><th>minute_of_hour</th><th>is_weekend</th></tr>\n",
       "<tr><td>1</td><td>2022-03-01 00:13:08</td><td>2022-03-01 00:24:35</td><td>1.0</td><td>2.4</td><td>1.0</td><td>N</td><td>90</td><td>209</td><td>2</td><td>10.0</td><td>3.0</td><td>0.5</td><td>0.0</td><td>0.0</td><td>0.3</td><td>13.8</td><td>2.5</td><td>0.0</td><td>60</td><td>1</td><td>Tue</td><td>0</td><td>13</td><td>false</td></tr>\n",
       "<tr><td>1</td><td>2022-03-01 00:47:52</td><td>2022-03-01 01:00:08</td><td>1.0</td><td>2.2</td><td>1.0</td><td>N</td><td>148</td><td>234</td><td>2</td><td>10.5</td><td>3.0</td><td>0.5</td><td>0.0</td><td>0.0</td><td>0.3</td><td>14.3</td><td>2.5</td><td>0.0</td><td>60</td><td>1</td><td>Tue</td><td>0</td><td>47</td><td>false</td></tr>\n",
       "<tr><td>2</td><td>2022-03-01 00:02:46</td><td>2022-03-01 00:46:43</td><td>1.0</td><td>19.78</td><td>2.0</td><td>N</td><td>132</td><td>249</td><td>1</td><td>52.0</td><td>0.0</td><td>0.5</td><td>11.06</td><td>0.0</td><td>0.3</td><td>67.61</td><td>2.5</td><td>1.25</td><td>60</td><td>1</td><td>Tue</td><td>0</td><td>2</td><td>false</td></tr>\n",
       "<tr><td>2</td><td>2022-03-01 00:52:43</td><td>2022-03-01 01:03:40</td><td>2.0</td><td>2.94</td><td>1.0</td><td>N</td><td>211</td><td>66</td><td>1</td><td>11.0</td><td>0.5</td><td>0.5</td><td>4.44</td><td>0.0</td><td>0.3</td><td>19.24</td><td>2.5</td><td>0.0</td><td>60</td><td>1</td><td>Tue</td><td>0</td><td>52</td><td>false</td></tr>\n",
       "<tr><td>2</td><td>2022-03-01 00:15:35</td><td>2022-03-01 00:34:13</td><td>1.0</td><td>8.57</td><td>1.0</td><td>N</td><td>138</td><td>197</td><td>1</td><td>25.0</td><td>0.5</td><td>0.5</td><td>5.51</td><td>0.0</td><td>0.3</td><td>33.06</td><td>0.0</td><td>1.25</td><td>60</td><td>1</td><td>Tue</td><td>0</td><td>15</td><td>false</td></tr>\n",
       "</table>\n"
      ],
      "text/plain": [
       "+--------+--------------------+---------------------+---------------+-------------+----------+------------------+------------+------------+------------+-----------+-----+-------+----------+------------+---------------------+------------+--------------------+-----------+-----------+------------+-----------+-----------+--------------+----------+\n",
       "|VendorID|tpep_pickup_datetime|tpep_dropoff_datetime|passenger_count|trip_distance|RatecodeID|store_and_fwd_flag|PULocationID|DOLocationID|payment_type|fare_amount|extra|mta_tax|tip_amount|tolls_amount|improvement_surcharge|total_amount|congestion_surcharge|airport_fee|day_of_year|day_of_month|day_of_week|hour_of_day|minute_of_hour|is_weekend|\n",
       "+--------+--------------------+---------------------+---------------+-------------+----------+------------------+------------+------------+------------+-----------+-----+-------+----------+------------+---------------------+------------+--------------------+-----------+-----------+------------+-----------+-----------+--------------+----------+\n",
       "|       1| 2022-03-01 00:13:08|  2022-03-01 00:24:35|            1.0|          2.4|       1.0|                 N|          90|         209|           2|       10.0|  3.0|    0.5|       0.0|         0.0|                  0.3|        13.8|                 2.5|        0.0|         60|           1|        Tue|          0|            13|     false|\n",
       "|       1| 2022-03-01 00:47:52|  2022-03-01 01:00:08|            1.0|          2.2|       1.0|                 N|         148|         234|           2|       10.5|  3.0|    0.5|       0.0|         0.0|                  0.3|        14.3|                 2.5|        0.0|         60|           1|        Tue|          0|            47|     false|\n",
       "|       2| 2022-03-01 00:02:46|  2022-03-01 00:46:43|            1.0|        19.78|       2.0|                 N|         132|         249|           1|       52.0|  0.0|    0.5|     11.06|         0.0|                  0.3|       67.61|                 2.5|       1.25|         60|           1|        Tue|          0|             2|     false|\n",
       "|       2| 2022-03-01 00:52:43|  2022-03-01 01:03:40|            2.0|         2.94|       1.0|                 N|         211|          66|           1|       11.0|  0.5|    0.5|      4.44|         0.0|                  0.3|       19.24|                 2.5|        0.0|         60|           1|        Tue|          0|            52|     false|\n",
       "|       2| 2022-03-01 00:15:35|  2022-03-01 00:34:13|            1.0|         8.57|       1.0|                 N|         138|         197|           1|       25.0|  0.5|    0.5|      5.51|         0.0|                  0.3|       33.06|                 0.0|       1.25|         60|           1|        Tue|          0|            15|     false|\n",
       "+--------+--------------------+---------------------+---------------+-------------+----------+------------------+------------+------------+------------+-----------+-----+-------+----------+------------+---------------------+------------+--------------------+-----------+-----------+------------+-----------+-----------+--------------+----------+"
      ]
     },
     "execution_count": 54,
     "metadata": {},
     "output_type": "execute_result"
    }
   ],
   "source": [
    "sdf_clean.limit(5)"
   ]
  }
 ],
 "metadata": {
  "kernelspec": {
   "display_name": "Python 3 (ipykernel)",
   "language": "python",
   "name": "python3"
  },
  "language_info": {
   "codemirror_mode": {
    "name": "ipython",
    "version": 3
   },
   "file_extension": ".py",
   "mimetype": "text/x-python",
   "name": "python",
   "nbconvert_exporter": "python",
   "pygments_lexer": "ipython3",
   "version": "3.9.6"
  },
  "vscode": {
   "interpreter": {
    "hash": "949777d72b0d2535278d3dc13498b2535136f6dfe0678499012e853ee9abcab1"
   }
  }
 },
 "nbformat": 4,
 "nbformat_minor": 2
}
